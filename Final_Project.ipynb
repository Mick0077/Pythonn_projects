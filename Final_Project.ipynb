{
 "cells": [
  {
   "cell_type": "code",
   "execution_count": 1,
   "metadata": {
    "colab": {
     "base_uri": "https://localhost:8080/",
     "height": 143,
     "resources": {
      "http://localhost:8080/nbextensions/google.colab/files.js": {
       "data": "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",
       "headers": [
        [
         "content-type",
         "application/javascript"
        ]
       ],
       "ok": true,
       "status": 200,
       "status_text": ""
      }
     }
    },
    "colab_type": "code",
    "id": "m_NRnXsJzphf",
    "outputId": "f83795b3-614b-4b55-fe12-8c41e7b366c4"
   },
   "outputs": [
    {
     "name": "stdout",
     "output_type": "stream",
     "text": [
      "455\n",
      "455\n",
      "57\n",
      "57\n",
      "57\n",
      "57\n"
     ]
    }
   ],
   "source": [
    "import pandas as pd\n",
    "\n",
    "x = pd.read_csv('./x.csv', header=None)\n",
    "y = pd.read_csv('./y.csv', header=None)\n",
    "\n",
    "#print(len(x))\n",
    "#print(len(y))\n",
    "\n",
    "#print(x)\n",
    "#print(y)\n",
    "\n",
    "from sklearn.model_selection import train_test_split\n",
    "X_train, X_test, y_train, y_test = train_test_split(x, y, train_size=0.8)\n",
    "X_test, X_val, y_test, y_val = train_test_split(X_test, y_test, test_size=0.5)\n",
    "\n",
    "print(len(X_train))\n",
    "print(len(y_train))\n",
    "print(len(X_test))\n",
    "print(len(y_test))\n",
    "print(len(X_val))\n",
    "print(len(y_val))"
   ]
  },
  {
   "cell_type": "code",
   "execution_count": 2,
   "metadata": {
    "colab": {
     "base_uri": "https://localhost:8080/",
     "height": 35
    },
    "colab_type": "code",
    "id": "LoWtmalR80De",
    "outputId": "6b78aa8b-3039-40c1-f452-54742bbbbf13"
   },
   "outputs": [
    {
     "name": "stderr",
     "output_type": "stream",
     "text": [
      "Using TensorFlow backend.\n"
     ]
    }
   ],
   "source": [
    "from keras.models import Sequential\n",
    "from keras.layers import Dense\n",
    "\n",
    "classifier = Sequential() # Initialising the ANN\n",
    "\n",
    "classifier.add(Dense(units = 16, activation = 'relu', input_dim = 30))\n",
    "classifier.add(Dense(units = 8, activation = 'relu'))\n",
    "classifier.add(Dense(units = 6, activation = 'relu'))\n",
    "classifier.add(Dense(units = 1, activation = 'sigmoid'))"
   ]
  },
  {
   "cell_type": "code",
   "execution_count": 3,
   "metadata": {
    "colab": {},
    "colab_type": "code",
    "id": "wR2O00E39C7E"
   },
   "outputs": [],
   "source": [
    "classifier.compile(optimizer = 'rmsprop', loss = 'binary_crossentropy', metrics=['acc'])"
   ]
  },
  {
   "cell_type": "code",
   "execution_count": null,
   "metadata": {},
   "outputs": [
    {
     "name": "stdout",
     "output_type": "stream",
     "text": [
      "Train on 455 samples, validate on 57 samples\n",
      "Epoch 1/100\n",
      "455/455 [==============================] - 1s 2ms/step - loss: 0.3418 - acc: 0.8703 - val_loss: 0.1836 - val_acc: 0.9474\n",
      "Epoch 2/100\n",
      "455/455 [==============================] - 1s 1ms/step - loss: 0.1053 - acc: 0.9648 - val_loss: 0.1853 - val_acc: 0.9649\n",
      "Epoch 3/100\n",
      "455/455 [==============================] - 1s 1ms/step - loss: 0.0818 - acc: 0.9692 - val_loss: 0.1983 - val_acc: 0.9825\n",
      "Epoch 4/100\n",
      "455/455 [==============================] - 1s 1ms/step - loss: 0.0795 - acc: 0.9758 - val_loss: 0.2144 - val_acc: 0.9474\n",
      "Epoch 5/100\n",
      "455/455 [==============================] - 1s 1ms/step - loss: 0.0725 - acc: 0.9802 - val_loss: 0.2329 - val_acc: 0.9649\n",
      "Epoch 6/100\n",
      "455/455 [==============================] - 1s 1ms/step - loss: 0.0800 - acc: 0.9802 - val_loss: 0.2492 - val_acc: 0.9649\n",
      "Epoch 7/100\n",
      "455/455 [==============================] - 1s 1ms/step - loss: 0.0726 - acc: 0.9780 - val_loss: 0.2811 - val_acc: 0.9474\n",
      "Epoch 8/100\n",
      "455/455 [==============================] - 1s 1ms/step - loss: 0.0728 - acc: 0.9802 - val_loss: 0.2861 - val_acc: 0.9474\n",
      "Epoch 9/100\n",
      "455/455 [==============================] - 1s 1ms/step - loss: 0.0756 - acc: 0.9780 - val_loss: 0.2852 - val_acc: 0.9649\n",
      "Epoch 10/100\n",
      "455/455 [==============================] - 1s 1ms/step - loss: 0.0747 - acc: 0.9802 - val_loss: 0.2855 - val_acc: 0.9474\n",
      "Epoch 11/100\n",
      "455/455 [==============================] - 1s 1ms/step - loss: 0.0696 - acc: 0.9824 - val_loss: 0.2819 - val_acc: 0.9474\n",
      "Epoch 12/100\n",
      "455/455 [==============================] - 1s 1ms/step - loss: 0.0641 - acc: 0.9846 - val_loss: 0.2916 - val_acc: 0.9474\n",
      "Epoch 13/100\n",
      "455/455 [==============================] - 1s 1ms/step - loss: 0.0685 - acc: 0.9824 - val_loss: 0.2958 - val_acc: 0.9474\n",
      "Epoch 14/100\n",
      "455/455 [==============================] - 1s 1ms/step - loss: 0.0704 - acc: 0.9846 - val_loss: 0.3180 - val_acc: 0.9474\n",
      "Epoch 15/100\n",
      "455/455 [==============================] - 1s 1ms/step - loss: 0.0639 - acc: 0.9868 - val_loss: 0.3126 - val_acc: 0.9474\n",
      "Epoch 16/100\n",
      "455/455 [==============================] - 1s 1ms/step - loss: 0.0614 - acc: 0.9846 - val_loss: 0.2957 - val_acc: 0.9474\n",
      "Epoch 17/100\n",
      "455/455 [==============================] - 1s 1ms/step - loss: 0.0571 - acc: 0.9868 - val_loss: 0.3048 - val_acc: 0.9474\n",
      "Epoch 18/100\n",
      "455/455 [==============================] - 1s 1ms/step - loss: 0.0547 - acc: 0.9868 - val_loss: 0.3087 - val_acc: 0.9474\n",
      "Epoch 19/100\n",
      "455/455 [==============================] - 1s 1ms/step - loss: 0.0488 - acc: 0.9890 - val_loss: 0.3099 - val_acc: 0.9474\n",
      "Epoch 20/100\n",
      "455/455 [==============================] - 1s 1ms/step - loss: 0.0500 - acc: 0.9890 - val_loss: 0.3094 - val_acc: 0.9474\n",
      "Epoch 21/100\n",
      "455/455 [==============================] - 1s 2ms/step - loss: 0.0490 - acc: 0.9912 - val_loss: 0.3266 - val_acc: 0.9474\n",
      "Epoch 22/100\n",
      "455/455 [==============================] - 1s 2ms/step - loss: 0.0477 - acc: 0.9890 - val_loss: 0.3361 - val_acc: 0.9474\n",
      "Epoch 23/100\n",
      "455/455 [==============================] - 1s 2ms/step - loss: 0.0474 - acc: 0.9890 - val_loss: 0.3290 - val_acc: 0.9474\n",
      "Epoch 24/100\n",
      "455/455 [==============================] - 1s 1ms/step - loss: 0.0446 - acc: 0.9912 - val_loss: 0.3269 - val_acc: 0.9474\n",
      "Epoch 25/100\n",
      "455/455 [==============================] - 1s 1ms/step - loss: 0.0391 - acc: 0.9912 - val_loss: 0.3551 - val_acc: 0.9474\n",
      "Epoch 26/100\n",
      "455/455 [==============================] - 1s 1ms/step - loss: 0.0466 - acc: 0.9912 - val_loss: 0.3594 - val_acc: 0.9474\n",
      "Epoch 27/100\n",
      "455/455 [==============================] - 1s 1ms/step - loss: 0.0429 - acc: 0.9912 - val_loss: 0.3669 - val_acc: 0.9474\n",
      "Epoch 28/100\n",
      "455/455 [==============================] - 1s 1ms/step - loss: 0.0483 - acc: 0.9912 - val_loss: 0.3924 - val_acc: 0.9474\n",
      "Epoch 29/100\n",
      "455/455 [==============================] - 1s 1ms/step - loss: 0.0448 - acc: 0.9912 - val_loss: 0.3841 - val_acc: 0.9474\n",
      "Epoch 30/100\n",
      "455/455 [==============================] - 1s 1ms/step - loss: 0.0438 - acc: 0.9912 - val_loss: 0.3808 - val_acc: 0.9474\n",
      "Epoch 31/100\n",
      "455/455 [==============================] - 1s 1ms/step - loss: 0.0396 - acc: 0.9912 - val_loss: 0.3902 - val_acc: 0.9474\n",
      "Epoch 32/100\n",
      "455/455 [==============================] - 1s 1ms/step - loss: 0.0399 - acc: 0.9912 - val_loss: 0.3957 - val_acc: 0.9474\n",
      "Epoch 33/100\n",
      "455/455 [==============================] - 1s 1ms/step - loss: 0.0362 - acc: 0.9934 - val_loss: 0.3866 - val_acc: 0.9474\n",
      "Epoch 34/100\n",
      "455/455 [==============================] - 1s 1ms/step - loss: 0.0390 - acc: 0.9934 - val_loss: 0.4163 - val_acc: 0.9649\n",
      "Epoch 35/100\n",
      "455/455 [==============================] - 1s 1ms/step - loss: 0.0383 - acc: 0.9934 - val_loss: 0.4171 - val_acc: 0.9649\n",
      "Epoch 36/100\n",
      "455/455 [==============================] - 1s 1ms/step - loss: 0.0415 - acc: 0.9934 - val_loss: 0.4507 - val_acc: 0.9649\n",
      "Epoch 37/100\n",
      "455/455 [==============================] - 1s 1ms/step - loss: 0.0387 - acc: 0.9934 - val_loss: 0.4485 - val_acc: 0.9649\n",
      "Epoch 38/100\n",
      "455/455 [==============================] - 1s 1ms/step - loss: 0.0415 - acc: 0.9934 - val_loss: 0.4506 - val_acc: 0.9474\n",
      "Epoch 39/100\n",
      "455/455 [==============================] - 1s 1ms/step - loss: 0.0392 - acc: 0.9934 - val_loss: 0.4713 - val_acc: 0.9649\n",
      "Epoch 40/100\n",
      "455/455 [==============================] - 1s 1ms/step - loss: 0.0374 - acc: 0.9934 - val_loss: 0.4835 - val_acc: 0.9649\n",
      "Epoch 41/100\n",
      "455/455 [==============================] - 1s 1ms/step - loss: 0.0532 - acc: 0.9934 - val_loss: 0.5527 - val_acc: 0.9649\n",
      "Epoch 42/100\n",
      "455/455 [==============================] - 1s 1ms/step - loss: 0.0456 - acc: 0.9934 - val_loss: 0.5272 - val_acc: 0.9649\n",
      "Epoch 43/100\n",
      "455/455 [==============================] - 1s 1ms/step - loss: 0.0488 - acc: 0.9934 - val_loss: 0.5439 - val_acc: 0.9649\n",
      "Epoch 44/100\n",
      "455/455 [==============================] - 1s 1ms/step - loss: 0.0447 - acc: 0.9934 - val_loss: 0.5219 - val_acc: 0.9474\n",
      "Epoch 45/100\n",
      "455/455 [==============================] - 1s 1ms/step - loss: 0.0395 - acc: 0.9934 - val_loss: 0.5158 - val_acc: 0.9649\n",
      "Epoch 46/100\n",
      "455/455 [==============================] - 1s 1ms/step - loss: 0.0410 - acc: 0.9934 - val_loss: 0.5568 - val_acc: 0.9649\n",
      "Epoch 47/100\n",
      "455/455 [==============================] - 1s 1ms/step - loss: 0.0431 - acc: 0.9934 - val_loss: 0.5304 - val_acc: 0.9649\n",
      "Epoch 48/100\n",
      "455/455 [==============================] - 1s 1ms/step - loss: 0.0361 - acc: 0.9934 - val_loss: 0.5472 - val_acc: 0.9649\n",
      "Epoch 49/100\n",
      "455/455 [==============================] - 1s 1ms/step - loss: 0.0393 - acc: 0.9934 - val_loss: 0.5428 - val_acc: 0.9649\n",
      "Epoch 50/100\n",
      "455/455 [==============================] - 1s 1ms/step - loss: 0.0387 - acc: 0.9934 - val_loss: 0.5440 - val_acc: 0.9649\n",
      "Epoch 51/100\n",
      "455/455 [==============================] - 1s 1ms/step - loss: 0.0357 - acc: 0.9934 - val_loss: 0.5331 - val_acc: 0.9649\n",
      "Epoch 52/100\n",
      "455/455 [==============================] - 1s 1ms/step - loss: 0.0349 - acc: 0.9934 - val_loss: 0.5573 - val_acc: 0.9649\n",
      "Epoch 53/100\n",
      "455/455 [==============================] - 1s 1ms/step - loss: 0.0377 - acc: 0.9934 - val_loss: 0.5540 - val_acc: 0.9649\n",
      "Epoch 54/100\n",
      "455/455 [==============================] - 1s 1ms/step - loss: 0.0319 - acc: 0.9934 - val_loss: 0.5302 - val_acc: 0.9649\n",
      "Epoch 55/100\n",
      "455/455 [==============================] - 1s 1ms/step - loss: 0.0339 - acc: 0.9934 - val_loss: 0.5451 - val_acc: 0.9649\n",
      "Epoch 56/100\n",
      "455/455 [==============================] - 1s 1ms/step - loss: 0.0345 - acc: 0.9934 - val_loss: 0.5448 - val_acc: 0.9649\n",
      "Epoch 57/100\n",
      "455/455 [==============================] - 1s 1ms/step - loss: 0.0412 - acc: 0.9934 - val_loss: 0.5611 - val_acc: 0.9649\n",
      "Epoch 58/100\n",
      "455/455 [==============================] - 1s 1ms/step - loss: 0.0378 - acc: 0.9934 - val_loss: 0.5502 - val_acc: 0.9649\n",
      "Epoch 59/100\n",
      "455/455 [==============================] - 1s 1ms/step - loss: 0.0309 - acc: 0.9934 - val_loss: 0.5611 - val_acc: 0.9649\n",
      "Epoch 60/100\n",
      "455/455 [==============================] - 1s 1ms/step - loss: 0.0428 - acc: 0.9934 - val_loss: 0.5663 - val_acc: 0.9649\n",
      "Epoch 61/100\n",
      "455/455 [==============================] - 1s 1ms/step - loss: 0.0322 - acc: 0.9934 - val_loss: 0.5504 - val_acc: 0.9649\n"
     ]
    },
    {
     "name": "stdout",
     "output_type": "stream",
     "text": [
      "Epoch 62/100\n",
      "455/455 [==============================] - 1s 1ms/step - loss: 0.0294 - acc: 0.9934 - val_loss: 0.5775 - val_acc: 0.9649\n",
      "Epoch 63/100\n",
      "455/455 [==============================] - 1s 1ms/step - loss: 0.0322 - acc: 0.9934 - val_loss: 0.5794 - val_acc: 0.9649\n",
      "Epoch 64/100\n",
      "455/455 [==============================] - 1s 1ms/step - loss: 0.0323 - acc: 0.9934 - val_loss: 0.6161 - val_acc: 0.9649\n",
      "Epoch 65/100\n",
      "354/455 [======================>.......] - ETA: 0s - loss: 0.0541 - acc: 0.9915"
     ]
    }
   ],
   "source": [
    "history = classifier.fit(X_train,\n",
    "         y_train,\n",
    "         batch_size=1,\n",
    "         epochs=100,\n",
    "         validation_data=(X_val, y_val),\n",
    "    )"
   ]
  },
  {
   "cell_type": "code",
   "execution_count": null,
   "metadata": {},
   "outputs": [],
   "source": [
    "import matplotlib.pyplot as plt\n",
    "# plot model performance\n",
    "acc = history.history['acc']\n",
    "val_acc = history.history['val_acc']\n",
    "loss = history.history['loss']\n",
    "val_loss = history.history['val_loss']\n",
    "epochs_range = range(1, len(history.epoch) + 1)\n",
    "\n",
    "plt.figure(figsize=(15,5))\n",
    "\n",
    "plt.subplot(1, 2, 1)\n",
    "plt.plot(epochs_range, acc, label='Train Set')\n",
    "plt.plot(epochs_range, val_acc, label='Val Set')\n",
    "plt.legend(loc=\"best\")\n",
    "plt.xlabel('Epochs')\n",
    "plt.ylabel('Accuracy')\n",
    "plt.title('Model Accuracy')\n",
    "\n",
    "plt.subplot(1, 2, 2)\n",
    "plt.plot(epochs_range, loss, label='Train Set')\n",
    "plt.plot(epochs_range, val_loss, label='Val Set')\n",
    "plt.legend(loc=\"best\")\n",
    "plt.xlabel('Epochs')\n",
    "plt.ylabel('Loss')\n",
    "plt.title('Model Loss')\n",
    "\n",
    "plt.tight_layout()\n",
    "plt.show()"
   ]
  },
  {
   "cell_type": "code",
   "execution_count": null,
   "metadata": {},
   "outputs": [],
   "source": [
    "score = classifier.evaluate(X_test, y_test, verbose=0)\n",
    "\n",
    "# Print test accuracy\n",
    "print('\\n', 'Test accuracy:', score[1])"
   ]
  },
  {
   "cell_type": "code",
   "execution_count": null,
   "metadata": {
    "colab": {},
    "colab_type": "code",
    "id": "xEaG0Tkx9fUU"
   },
   "outputs": [],
   "source": [
    "Y_pred = classifier.predict(X_test)\n",
    "Y_pred = [ 1 if y>=0.5 else 0 for y in Y_pred ]"
   ]
  },
  {
   "cell_type": "code",
   "execution_count": null,
   "metadata": {
    "colab": {},
    "colab_type": "code",
    "id": "iCiGPE9YnIHv"
   },
   "outputs": [],
   "source": [
    "total = 0\n",
    "correct = 0\n",
    "wrong = 0\n",
    "for i in range(len(Y_pred)):\n",
    "  total=total+1\n",
    "  if(y.at[i,0] == Y_pred[i]):\n",
    "    correct=correct+1\n",
    "  else:\n",
    "    wrong=wrong+1\n",
    "\n",
    "print(\"Total \" + str(total))\n",
    "print(\"Correct \" + str(correct))\n",
    "print(\"Wrong \" + str(wrong))"
   ]
  },
  {
   "cell_type": "code",
   "execution_count": null,
   "metadata": {
    "colab": {},
    "colab_type": "code",
    "id": "XOk6v7_slnWZ"
   },
   "outputs": [],
   "source": [
    "from sklearn.cluster import KMeans\n",
    "import numpy as np\n",
    "import matplotlib.pyplot as plt\n",
    "\n",
    "kmeans = KMeans (algorithm='auto', n_clusters=2, n_init=10, max_iter=1000)\n",
    "\n",
    "kmeans.fit(x)\n",
    "\n",
    "k_predect = kmeans.predict(x) \n",
    "print(k_predect)"
   ]
  },
  {
   "cell_type": "code",
   "execution_count": null,
   "metadata": {
    "colab": {},
    "colab_type": "code",
    "id": "Psjd6ckFznzW"
   },
   "outputs": [],
   "source": [
    "total = 0\n",
    "correct = 0\n",
    "wrong = 0\n",
    "for i in range(len(k_predect)):\n",
    "  total=total+1\n",
    "  if(y.at[i,0] == k_predect[i]):\n",
    "    correct=correct+1\n",
    "  else:\n",
    "    wrong=wrong+1\n",
    "\n",
    "print(\"Total \" + str(total))\n",
    "print(\"Correct \" + str(correct))\n",
    "print(\"Wrong \" + str(wrong))"
   ]
  },
  {
   "cell_type": "code",
   "execution_count": null,
   "metadata": {},
   "outputs": [],
   "source": []
  }
 ],
 "metadata": {
  "colab": {
   "collapsed_sections": [],
   "name": "Final_Project.ipynb",
   "provenance": []
  },
  "kernelspec": {
   "display_name": "Python 3",
   "language": "python",
   "name": "python3"
  },
  "language_info": {
   "codemirror_mode": {
    "name": "ipython",
    "version": 3
   },
   "file_extension": ".py",
   "mimetype": "text/x-python",
   "name": "python",
   "nbconvert_exporter": "python",
   "pygments_lexer": "ipython3",
   "version": "3.8.2"
  }
 },
 "nbformat": 4,
 "nbformat_minor": 1
}
