{
 "cells": [
  {
   "cell_type": "code",
   "execution_count": 1,
   "metadata": {},
   "outputs": [
    {
     "name": "stderr",
     "output_type": "stream",
     "text": [
      "Using TensorFlow backend.\n"
     ]
    }
   ],
   "source": [
    "# Has been used the dataset https://www.kaggle.com/tongpython/cat-and-dog\n",
    "\n",
    "# Importing the Keras libraries and packages\n",
    "import tensorflow as tf\n",
    "from tensorflow.keras.optimizers import RMSprop\n",
    "from tensorflow.keras.preprocessing.image import ImageDataGenerator\n",
    "import os\n",
    "from keras.models import Sequential\n",
    "from keras.layers import Conv2D\n",
    "from keras.layers import MaxPooling2D\n",
    "from keras.layers import Flatten\n",
    "from keras.layers import Dense"
   ]
  },
  {
   "cell_type": "code",
   "execution_count": 2,
   "metadata": {},
   "outputs": [],
   "source": [
    "# Directory with our training horse pictures\n",
    "train_cats_dir = os.path.join('./training_set/training_set/cats')\n",
    "\n",
    "# Directory with our training human pictures\n",
    "train_dogs_dir = os.path.join('./training_set/training_set/dogs')\n",
    "\n",
    "# Directory with our validation horse pictures\n",
    "validation_cats_dir = os.path.join('./test_set/test_set/cats')\n",
    "\n",
    "# Directory with our validation human pictures\n",
    "validation_dogs_dir = os.path.join('./test_set/test_set/dogs')\n"
   ]
  },
  {
   "cell_type": "code",
   "execution_count": 3,
   "metadata": {},
   "outputs": [
    {
     "name": "stdout",
     "output_type": "stream",
     "text": [
      "total training cats images: 4001\n",
      "total training dogs images: 4006\n",
      "total validation cats images: 1012\n",
      "total validation dogs images: 1013\n"
     ]
    }
   ],
   "source": [
    "print('total training cats images:', len(os.listdir(train_cats_dir)))\n",
    "print('total training dogs images:', len(os.listdir(train_dogs_dir)))\n",
    "print('total validation cats images:', len(os.listdir(validation_cats_dir)))\n",
    "print('total validation dogs images:', len(os.listdir(validation_dogs_dir)))"
   ]
  },
  {
   "cell_type": "code",
   "execution_count": 4,
   "metadata": {},
   "outputs": [],
   "source": [
    "model = tf.keras.models.Sequential([\n",
    "    tf.keras.layers.Conv2D(16, (3, 3), activation='relu', input_shape=(150, 150, 3)),\n",
    "    tf.keras.layers.MaxPooling2D(2, 2),\n",
    "    tf.keras.layers.Conv2D(32, (3, 3), activation='relu'),\n",
    "    tf.keras.layers.MaxPooling2D(2, 2),\n",
    "    tf.keras.layers.Conv2D(64, (3, 3), activation='relu'),\n",
    "    tf.keras.layers.MaxPooling2D(2, 2),\n",
    "    tf.keras.layers.Flatten(),\n",
    "    tf.keras.layers.Dense(512, activation='relu'),\n",
    "    tf.keras.layers.Dense(1, activation='sigmoid')\n",
    "])\n",
    "\n",
    "model.compile(optimizer=RMSprop(lr=0.001), loss='binary_crossentropy', metrics=['acc'])"
   ]
  },
  {
   "cell_type": "code",
   "execution_count": 5,
   "metadata": {},
   "outputs": [
    {
     "name": "stdout",
     "output_type": "stream",
     "text": [
      "Found 8005 images belonging to 2 classes.\n",
      "Found 2023 images belonging to 2 classes.\n"
     ]
    }
   ],
   "source": [
    "from tensorflow.keras.preprocessing.image import ImageDataGenerator\n",
    "\n",
    "# All images will be rescaled by 1./255\n",
    "train_datagen = ImageDataGenerator(rescale=1/255)\n",
    "\n",
    "# Flow training images in batches of 128 using train_datagen generator\n",
    "train_generator = train_datagen.flow_from_directory(\n",
    "        './training_set/training_set/',  # This is the source directory for training images\n",
    "        target_size=(150, 150),  # All images will be resized to 150x150\n",
    "        batch_size=200,\n",
    "        # Since we use binary_crossentropy loss, we need binary labels\n",
    "        class_mode='binary')\n",
    "\n",
    "validation_datagen = ImageDataGenerator(rescale=1/255)\n",
    "\n",
    "# Flow training images in batches of 128 using train_datagen generator\n",
    "validation_generator = validation_datagen.flow_from_directory(\n",
    "        './test_set/test_set/',  # This is the source directory for validation images\n",
    "        target_size=(150, 150),  # All images will be resized to 150x150\n",
    "        batch_size=100,\n",
    "        # Since we use binary_crossentropy loss, we need binary labels\n",
    "        class_mode='binary')\n"
   ]
  },
  {
   "cell_type": "code",
   "execution_count": 6,
   "metadata": {},
   "outputs": [
    {
     "name": "stdout",
     "output_type": "stream",
     "text": [
      "Epoch 1/15\n",
      "40/40 [==============================] - 129s 3s/step - loss: 1.1392 - acc: 0.5416 - val_loss: 0.6692 - val_acc: 0.6050\n",
      "Epoch 2/15\n",
      "40/40 [==============================] - 125s 3s/step - loss: 0.7202 - acc: 0.5981 - val_loss: 0.6498 - val_acc: 0.6325\n",
      "Epoch 3/15\n",
      "40/40 [==============================] - 132s 3s/step - loss: 0.6359 - acc: 0.6406 - val_loss: 0.6052 - val_acc: 0.7070\n",
      "Epoch 4/15\n",
      "40/40 [==============================] - 131s 3s/step - loss: 0.6251 - acc: 0.6758 - val_loss: 0.5952 - val_acc: 0.6695\n",
      "Epoch 5/15\n",
      "40/40 [==============================] - 125s 3s/step - loss: 0.5804 - acc: 0.7144 - val_loss: 0.5606 - val_acc: 0.7125\n",
      "Epoch 6/15\n",
      "40/40 [==============================] - 124s 3s/step - loss: 0.5300 - acc: 0.7361 - val_loss: 0.6673 - val_acc: 0.6215\n",
      "Epoch 7/15\n",
      "40/40 [==============================] - 130s 3s/step - loss: 0.5220 - acc: 0.7546 - val_loss: 0.5392 - val_acc: 0.7315\n",
      "Epoch 8/15\n",
      "40/40 [==============================] - 128s 3s/step - loss: 0.4648 - acc: 0.7824 - val_loss: 2.2900 - val_acc: 0.5040\n",
      "Epoch 9/15\n",
      "40/40 [==============================] - 125s 3s/step - loss: 0.4751 - acc: 0.7962 - val_loss: 0.5156 - val_acc: 0.7575\n",
      "Epoch 10/15\n",
      "40/40 [==============================] - 126s 3s/step - loss: 0.3948 - acc: 0.8169 - val_loss: 0.9445 - val_acc: 0.5980\n",
      "Epoch 11/15\n",
      "40/40 [==============================] - 128s 3s/step - loss: 0.3787 - acc: 0.8350 - val_loss: 0.5436 - val_acc: 0.7545\n",
      "Epoch 12/15\n",
      "40/40 [==============================] - 127s 3s/step - loss: 0.3123 - acc: 0.8635 - val_loss: 0.5463 - val_acc: 0.7310\n",
      "Epoch 13/15\n",
      "40/40 [==============================] - 129s 3s/step - loss: 0.2905 - acc: 0.8861 - val_loss: 0.7769 - val_acc: 0.7190\n",
      "Epoch 14/15\n",
      "40/40 [==============================] - 129s 3s/step - loss: 0.2912 - acc: 0.8820 - val_loss: 0.7269 - val_acc: 0.7485\n",
      "Epoch 15/15\n",
      "40/40 [==============================] - 129s 3s/step - loss: 0.1794 - acc: 0.9335 - val_loss: 0.6771 - val_acc: 0.7465\n"
     ]
    }
   ],
   "source": [
    "# Note that this may take some time.\n",
    "history = model.fit(train_generator, epochs=15, steps_per_epoch=40,\n",
    "                    validation_data=validation_generator, validation_steps=20)"
   ]
  },
  {
   "cell_type": "code",
   "execution_count": 7,
   "metadata": {},
   "outputs": [
    {
     "data": {
      "text/plain": [
       "<Figure size 432x288 with 0 Axes>"
      ]
     },
     "execution_count": 7,
     "metadata": {},
     "output_type": "execute_result"
    },
    {
     "data": {
      "image/png": "[encoded data removed]",
      "text/plain": [
       "<Figure size 432x288 with 1 Axes>"
      ]
     },
     "metadata": {
      "needs_background": "light"
     },
     "output_type": "display_data"
    },
    {
     "data": {
      "image/png": "[encoded data removed]",
      "text/plain": [
       "<Figure size 432x288 with 1 Axes>"
      ]
     },
     "metadata": {
      "needs_background": "light"
     },
     "output_type": "display_data"
    },
    {
     "data": {
      "text/plain": [
       "<Figure size 432x288 with 0 Axes>"
      ]
     },
     "metadata": {},
     "output_type": "display_data"
    }
   ],
   "source": [
    "%matplotlib inline\n",
    "\n",
    "import matplotlib.image  as mpimg\n",
    "import matplotlib.pyplot as plt\n",
    "\n",
    "#-----------------------------------------------------------\n",
    "# Retrieve a list of list results on training and test data\n",
    "# sets for each training epoch\n",
    "#-----------------------------------------------------------\n",
    "acc=history.history['acc']\n",
    "val_acc=history.history['val_acc']\n",
    "loss=history.history['loss']\n",
    "val_loss=history.history['val_loss']\n",
    "\n",
    "epochs=range(len(acc)) # Get number of epochs\n",
    "\n",
    "#------------------------------------------------\n",
    "# Plot training and validation accuracy per epoch\n",
    "#------------------------------------------------\n",
    "plt.plot(epochs, acc, 'r', \"Training Accuracy\")\n",
    "plt.plot(epochs, val_acc, 'b', \"Validation Accuracy\")\n",
    "plt.title('Training and validation accuracy')\n",
    "plt.figure()\n",
    "\n",
    "#------------------------------------------------\n",
    "# Plot training and validation loss per epoch\n",
    "#------------------------------------------------\n",
    "plt.plot(epochs, loss, 'r', \"Training Loss\")\n",
    "plt.plot(epochs, val_loss, 'b', \"Validation Loss\")\n",
    "plt.figure()"
   ]
  }
 ],
 "metadata": {
  "kernelspec": {
   "display_name": "Python 3",
   "language": "python",
   "name": "python3"
  },
  "language_info": {
   "codemirror_mode": {
    "name": "ipython",
    "version": 3
   },
   "file_extension": ".py",
   "mimetype": "text/x-python",
   "name": "python",
   "nbconvert_exporter": "python",
   "pygments_lexer": "ipython3",
   "version": "3.8.2"
  }
 },
 "nbformat": 4,
 "nbformat_minor": 4
}
